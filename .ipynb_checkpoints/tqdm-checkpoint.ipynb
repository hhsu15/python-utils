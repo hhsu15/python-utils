{
 "cells": [
  {
   "cell_type": "code",
   "execution_count": 1,
   "metadata": {},
   "outputs": [
    {
     "name": "stdout",
     "output_type": "stream",
     "text": [
      "Collecting tqdm\n",
      "  Using cached https://files.pythonhosted.org/packages/80/02/8f8880a4fd6625461833abcf679d4c12a44c76f9925f92bf212bb6cefaad/tqdm-4.56.0-py2.py3-none-any.whl\n",
      "Installing collected packages: tqdm\n",
      "Successfully installed tqdm-4.56.0\n",
      "\u001b[33mWARNING: You are using pip version 19.2.3, however version 20.3.3 is available.\n",
      "You should consider upgrading via the 'pip install --upgrade pip' command.\u001b[0m\n"
     ]
    }
   ],
   "source": [
    "!pip install tqdm"
   ]
  },
  {
   "cell_type": "code",
   "execution_count": 1,
   "metadata": {},
   "outputs": [],
   "source": [
    "from tqdm import tqdm"
   ]
  },
  {
   "cell_type": "code",
   "execution_count": 2,
   "metadata": {},
   "outputs": [
    {
     "name": "stderr",
     "output_type": "stream",
     "text": [
      "100%|██████████| 20/20 [00:02<00:00,  9.60it/s]\n"
     ]
    }
   ],
   "source": [
    "from time import sleep\n",
    "for i in tqdm(range(20)):\n",
    "    sleep(0.1)\n",
    "    "
   ]
  },
  {
   "cell_type": "code",
   "execution_count": 3,
   "metadata": {},
   "outputs": [
    {
     "name": "stderr",
     "output_type": "stream",
     "text": [
      "My progress bar: 100%|██████████| 20/20 [00:02<00:00,  9.63fefe/s]\n"
     ]
    }
   ],
   "source": [
    "from tqdm import trange\n",
    "\n",
    "for i in trange(20, desc=\"My progress bar\", unit=\"fefe\"):\n",
    "    sleep(0.1)"
   ]
  },
  {
   "cell_type": "code",
   "execution_count": 8,
   "metadata": {},
   "outputs": [
    {
     "name": "stderr",
     "output_type": "stream",
     "text": [
      "100%|██████████| 5/5 [00:00<00:00,  9.62it/s]\n"
     ]
    }
   ],
   "source": [
    "# use tqdm to wrap any iterable\n",
    "string = \"hello\"\n",
    "\n",
    "for char in tqdm(string):\n",
    "    sleep(0.1)"
   ]
  },
  {
   "cell_type": "code",
   "execution_count": 10,
   "metadata": {},
   "outputs": [
    {
     "name": "stderr",
     "output_type": "stream",
     "text": [
      "Processing o: 100%|██████████| 5/5 [00:02<00:00,  1.97it/s]\n"
     ]
    }
   ],
   "source": [
    "pbar = tqdm(string)\n",
    "\n",
    "for char in pbar:\n",
    "    sleep(0.5)\n",
    "    pbar.set_description(\"Processing %s\" % char)"
   ]
  },
  {
   "cell_type": "code",
   "execution_count": 15,
   "metadata": {},
   "outputs": [
    {
     "name": "stderr",
     "output_type": "stream",
     "text": [
      " 20%|██        | 20/100 [00:04<00:16,  4.88it/s]\n"
     ]
    }
   ],
   "source": [
    "# mannual control of the interval the update\n",
    "from tqdm import tqdm\n",
    "with tqdm(total=100) as pbar:\n",
    "    for i in range(20):\n",
    "        sleep(0.2)\n",
    "        pbar.update(1)"
   ]
  },
  {
   "cell_type": "markdown",
   "metadata": {},
   "source": [
    "## Use command line"
   ]
  },
  {
   "cell_type": "code",
   "execution_count": 34,
   "metadata": {},
   "outputs": [
    {
     "name": "stdout",
     "output_type": "stream",
     "text": [
      "      78\r\n"
     ]
    }
   ],
   "source": [
    "# count the lines of code in all .py files\n",
    "!find . -name \"*.py\" -type f -exec cat \\{} \\; | wc -l"
   ]
  },
  {
   "cell_type": "code",
   "execution_count": 30,
   "metadata": {},
   "outputs": [
    {
     "name": "stdout",
     "output_type": "stream",
     "text": [
      "\r",
      "0.00loc [00:00, ?loc/s]\r",
      "78.0loc [00:00, 319kloc/s]\r\n",
      "      78\r\n"
     ]
    }
   ],
   "source": [
    "# use tqdm\n",
    "!find . -name \"*.py\" -type f -exec cat \\{} \\; | tqdm --unit loc --unit_scale  | wc -l"
   ]
  },
  {
   "cell_type": "code",
   "execution_count": 55,
   "metadata": {},
   "outputs": [],
   "source": [
    "# make a backup\n",
    "!tar zcf backup.tgz 2020_libraries"
   ]
  },
  {
   "cell_type": "code",
   "execution_count": 61,
   "metadata": {},
   "outputs": [
    {
     "name": "stdout",
     "output_type": "stream",
     "text": [
      "\r\n",
      "Error:\r\n",
      "Usage:\r\n",
      "  tqdm [--help | options]\r\n",
      "Traceback (most recent call last):\r\n",
      "  File \"/anaconda3/bin/tqdm\", line 10, in <module>\r\n",
      "    sys.exit(main())\r\n",
      "  File \"/anaconda3/lib/python3.6/site-packages/tqdm/cli.py\", line 215, in main\r\n",
      "    tqdm_args[o] = cast(v, opt_types[o])\r\n",
      "  File \"/anaconda3/lib/python3.6/site-packages/tqdm/cli.py\", line 24, in cast\r\n",
      "    raise TqdmTypeError(val + ' : ' + typ)\r\n",
      "tqdm.std.TqdmTypeError: 264 2020_libraries : int or float\r\n"
     ]
    }
   ],
   "source": [
    "# use tqdm\n",
    "!tar zcf backup.tgz 2020_libraries | tqdm --bytes --total `du -s 2020_libraries`| > backup.tgz"
   ]
  },
  {
   "cell_type": "code",
   "execution_count": null,
   "metadata": {},
   "outputs": [],
   "source": []
  }
 ],
 "metadata": {
  "kernelspec": {
   "display_name": "Python 3.6.5 64-bit ('base': conda)",
   "language": "python",
   "name": "python36564bitbaseconda073a1d18fb274a708cf9265a3dde63f5"
  },
  "language_info": {
   "codemirror_mode": {
    "name": "ipython",
    "version": 3
   },
   "file_extension": ".py",
   "mimetype": "text/x-python",
   "name": "python",
   "nbconvert_exporter": "python",
   "pygments_lexer": "ipython3",
   "version": "3.6.5"
  }
 },
 "nbformat": 4,
 "nbformat_minor": 2
}
